{
  "nbformat": 4,
  "nbformat_minor": 0,
  "metadata": {
    "colab": {
      "name": "Task #02.ipynb",
      "provenance": []
    },
    "kernelspec": {
      "name": "python3",
      "display_name": "Python 3"
    },
    "language_info": {
      "name": "python"
    }
  },
  "cells": [
    {
      "cell_type": "markdown",
      "metadata": {
        "id": "zt98n3jWyHf4"
      },
      "source": [
        "**SAIFUL ISLAM SAGOR**\\\n",
        "**Reg.No:2017331033**"
      ]
    },
    {
      "cell_type": "code",
      "metadata": {
        "id": "HvCR6ZWFtIcm"
      },
      "source": [
        "import numpy as np\n",
        "import matplotlib.pyplot as plt\n",
        "import math"
      ],
      "execution_count": null,
      "outputs": []
    },
    {
      "cell_type": "markdown",
      "metadata": {
        "id": "AV7iBs3PtvYo"
      },
      "source": [
        "**Line Coding**\\\n",
        "**Line Coding Encoding - Unipolar - Non Return to Zero(NRZ)**"
      ]
    },
    {
      "cell_type": "code",
      "metadata": {
        "colab": {
          "base_uri": "https://localhost:8080/",
          "height": 265
        },
        "id": "tjsfxQiKtiT-",
        "outputId": "3c96c402-ca30-4749-8ad5-d1f31233f907"
      },
      "source": [
        "bits = np.array([1, 1, 0, 1, 1, 1, 0, 1, 0, 0, 1]) \n",
        "Time = 10e-6   \n",
        "bit_rate = 1/Time  \n",
        "Fs = 4*bit_rate    \n",
        "N = len(bits)   \n",
        "T = np.linspace(0,Time,100)\n",
        "\n",
        "x = np.array([])\n",
        "for i in range(N):\n",
        "  temp = bits[i]* np.ones(len(T))\n",
        "  x = np.append(x, temp)\n",
        "t = np.linspace(0,N*Time,len(x))\n",
        "\n",
        "plt.plot(t, x)\n",
        "plt.show()"
      ],
      "execution_count": null,
      "outputs": [
        {
          "output_type": "display_data",
          "data": {
            "image/png": "[encoded data removed]",
            "text/plain": [
              "<Figure size 432x288 with 1 Axes>"
            ]
          },
          "metadata": {
            "needs_background": "light"
          }
        }
      ]
    },
    {
      "cell_type": "markdown",
      "metadata": {
        "id": "SlFKhTbburcS"
      },
      "source": [
        "**Line Coding Decoding - Unipolar - Non Return to Zero(NRZ)**"
      ]
    },
    {
      "cell_type": "code",
      "metadata": {
        "colab": {
          "base_uri": "https://localhost:8080/"
        },
        "id": "AuDcC_nouqG_",
        "outputId": "838e57a9-dbec-4e59-ef0b-98a0c0f30d54"
      },
      "source": [
        "result = []\n",
        "counter = 0\n",
        "for i in range(len(t)):\n",
        "  if t[i]*bit_rate > counter:\n",
        "    counter = counter + 1\n",
        "    result.append(int(x[i]))\n",
        "\n",
        "print(result)"
      ],
      "execution_count": null,
      "outputs": [
        {
          "output_type": "stream",
          "name": "stdout",
          "text": [
            "[1, 1, 0, 1, 1, 1, 0, 1, 0, 0, 1]\n"
          ]
        }
      ]
    },
    {
      "cell_type": "markdown",
      "metadata": {
        "id": "0RqeythjvTff"
      },
      "source": [
        "**Block Coding**"
      ]
    },
    {
      "cell_type": "code",
      "metadata": {
        "id": "O6KBHFIbvReW"
      },
      "source": [
        "mB = 4\n",
        "nB = 5\n",
        "block_coding_mapping_codes = {\n",
        "# encoding map\n",
        "\"0000\": \"11110\",\n",
        "\"0001\": \"01001\",\n",
        "\"0010\": \"10100\",\n",
        "\"0011\": \"10101\",\n",
        "\"0100\": \"01010\",\n",
        "\"0101\": \"01011\",\n",
        "\"0110\": \"01110\",\n",
        "\"0111\": \"01111\",\n",
        "\"1000\": \"10010\",\n",
        "\"1001\": \"10011\",\n",
        "\"1010\": \"10110\",\n",
        "\"1011\": \"10111\",\n",
        "\"1100\": \"11010\",\n",
        "\"1101\": \"11011\",\n",
        "\"1110\": \"11100\",\n",
        "\"1111\": \"11101\",\n",
        "# decoding map\n",
        "\"11110\": \"0000\",\n",
        "\"01001\": \"0001\",\n",
        "\"10100\": \"0010\",\n",
        "\"10101\": \"0011\",\n",
        "\"01010\": \"0100\",\n",
        "\"01011\": \"0101\",\n",
        "\"01110\": \"0110\",\n",
        "\"01111\": \"0111\",\n",
        "\"10010\": \"1000\",\n",
        "\"10011\": \"1001\",\n",
        "\"10110\": \"1010\",\n",
        "\"10111\": \"1011\",\n",
        "\"11010\": \"1100\",\n",
        "\"11011\": \"1101\",\n",
        "\"11100\": \"1110\",\n",
        "\"11101\": \"1111\",\n",
        "\n",
        "}\n",
        "\n"
      ],
      "execution_count": null,
      "outputs": []
    },
    {
      "cell_type": "code",
      "metadata": {
        "id": "-9vUsrufvkd3"
      },
      "source": [
        "def get_Mapping_Codes(bits):\n",
        "  return block_coding_mapping_codes[\"\".join(map(str, bits))]\n",
        "  \n",
        "\n",
        "def get_MB_NB_Encoding(bits, mB, nB):\n",
        "\n",
        "  if len(bits) % mB != 0:\n",
        "\n",
        "    extra_len = (((len(bits)// mB) + 1) * mB) - len(bits)\n",
        "    extra = np.array(np.zeros(extra_len), dtype=int)\n",
        "    bits = np.append(bits, extra)\n",
        "  \n",
        "  encoded_bits_str = \"\"\n",
        "  for i in range(0, len(bits), mB):\n",
        "    encoded_bits_str += get_Mapping_Codes(bits[i:i+mB])\n",
        "\n",
        "  encoded_bits_list = list(encoded_bits_str)\n",
        "  encoded_bits_map = map(int, encoded_bits_list)\n",
        "  encoded_bits = np.array(list(encoded_bits_map))\n",
        "  return encoded_bits\n",
        "\n",
        "\n",
        "def get_NB_MB_Decoding(bits, mB, nB):\n",
        "  if len(bits) % nB != 0:\n",
        "    print(\"Invalid length, Decoding Not possible!\")\n",
        "    return\n",
        "  decoded_bits_str = \"\"\n",
        "  for i in range(0, len(bits), nB):\n",
        "    decoded_bits_str += get_Mapping_Codes(bits[i:i+nB])\n",
        "  \n",
        "  decoded_bits_list = list(decoded_bits_str)\n",
        "  decoded_bits_map = map(int, decoded_bits_list)\n",
        "  decoded_bits = np.array(list(decoded_bits_map))\n",
        "  return decoded_bits\n"
      ],
      "execution_count": null,
      "outputs": []
    },
    {
      "cell_type": "markdown",
      "metadata": {
        "id": "1RNkYnRkwB-Y"
      },
      "source": [
        "**$4B/5B$ Encoding**"
      ]
    },
    {
      "cell_type": "code",
      "metadata": {
        "id": "dc0pLYWfwOpF"
      },
      "source": [
        "bits = np.array([0, 0, 1, 0, 1, 0, 0, 0, 1, 1, 1], dtype=int) \n",
        "bits = get_MB_NB_Encoding(bits, mB, nB)"
      ],
      "execution_count": null,
      "outputs": []
    },
    {
      "cell_type": "code",
      "metadata": {
        "colab": {
          "base_uri": "https://localhost:8080/",
          "height": 265
        },
        "id": "yz-MPGknwVim",
        "outputId": "9a8ccd4a-7650-4130-f70c-8f53f69d5673"
      },
      "source": [
        "Time = 10e-6   \n",
        "bit_rate = 1/Time  \n",
        "Fs = 4*bit_rate    \n",
        "N = len(bits)   \n",
        "T = np.linspace(0,Time, mB * 100)\n",
        "\n",
        "x = np.array([])\n",
        "last_bit = 1\n",
        "for i in range(N):\n",
        "  if bits[i] == 1:\n",
        "    temp = (-1) * last_bit * np.ones(len(T))\n",
        "    last_bit = -last_bit\n",
        "  else:\n",
        "    temp = last_bit * np.ones(len(T))\n",
        "  x = np.append(x, temp)\n",
        "t = np.linspace(0,N*Time,len(x))\n",
        "\n",
        "plt.plot(t, x)\n",
        "plt.show()"
      ],
      "execution_count": null,
      "outputs": [
        {
          "output_type": "display_data",
          "data": {
            "image/png": "[encoded data removed]",
            "text/plain": [
              "<Figure size 432x288 with 1 Axes>"
            ]
          },
          "metadata": {
            "needs_background": "light"
          }
        }
      ]
    },
    {
      "cell_type": "markdown",
      "metadata": {
        "id": "TuXiMiYvwZk9"
      },
      "source": [
        "**$NRZ-I$ Line Coding Decoding**"
      ]
    },
    {
      "cell_type": "code",
      "metadata": {
        "colab": {
          "base_uri": "https://localhost:8080/"
        },
        "id": "k_vp5kdrwca2",
        "outputId": "0d487777-f401-4683-90b8-e734a566eecc"
      },
      "source": [
        "result = []\n",
        "counter = 0\n",
        "last_bit = 1\n",
        "for i in range(len(t)):\n",
        "  if t[i]*bit_rate > counter:\n",
        "    counter = counter + 1\n",
        "    if x[i] != last_bit:\n",
        "      result.append(1)\n",
        "      last_bit=-last_bit\n",
        "    else:\n",
        "      result.append(0)\n",
        "\n",
        "print(result)"
      ],
      "execution_count": null,
      "outputs": [
        {
          "output_type": "stream",
          "name": "stdout",
          "text": [
            "[1, 0, 1, 0, 0, 1, 0, 0, 1, 0, 1, 1, 1, 0, 0]\n"
          ]
        }
      ]
    },
    {
      "cell_type": "markdown",
      "metadata": {
        "id": "sGmcj5yJyDjV"
      },
      "source": [
        ""
      ]
    },
    {
      "cell_type": "markdown",
      "metadata": {
        "id": "8sntMO-TwyVx"
      },
      "source": [
        "**$4B/5B$ Decoding**"
      ]
    },
    {
      "cell_type": "code",
      "metadata": {
        "colab": {
          "base_uri": "https://localhost:8080/"
        },
        "id": "OTPPzSAvw3AW",
        "outputId": "295c2832-aaa5-42cd-a13f-dafcc650f84e"
      },
      "source": [
        "result = get_NB_MB_Decoding(result, mB, nB)\n",
        "print(result)"
      ],
      "execution_count": null,
      "outputs": [
        {
          "output_type": "stream",
          "name": "stdout",
          "text": [
            "[0 0 1 0 1 0 0 0 1 1 1 0]\n"
          ]
        }
      ]
    }
  ]
}